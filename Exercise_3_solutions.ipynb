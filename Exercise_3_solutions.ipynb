{
  "nbformat": 4,
  "nbformat_minor": 0,
  "metadata": {
    "colab": {
      "name": "Exercise_3_solutions",
      "version": "0.3.2",
      "provenance": [],
      "collapsed_sections": [],
      "include_colab_link": true
    },
    "kernelspec": {
      "name": "python3",
      "display_name": "Python 3"
    }
  },
  "cells": [
    {
      "cell_type": "markdown",
      "metadata": {
        "id": "view-in-github",
        "colab_type": "text"
      },
      "source": [
        "<a href=\"https://colab.research.google.com/github/msparrowskyIT/python_data_visualisation_lecture/blob/master/Exercise_3_solutions.ipynb\" target=\"_parent\"><img src=\"https://colab.research.google.com/assets/colab-badge.svg\" alt=\"Open In Colab\"/></a>"
      ]
    },
    {
      "metadata": {
        "id": "bhKF72UMQ0C2",
        "colab_type": "code",
        "colab": {}
      },
      "cell_type": "code",
      "source": [
        "import math\n",
        "import matplotlib.pyplot as plt\n",
        "import random"
      ],
      "execution_count": 0,
      "outputs": []
    },
    {
      "metadata": {
        "id": "OgTtCgYaELsc",
        "colab_type": "text"
      },
      "cell_type": "markdown",
      "source": [
        "**1.**"
      ]
    },
    {
      "metadata": {
        "id": "0xTjpKckDQQl",
        "colab_type": "code",
        "outputId": "e4aeba88-9741-4233-9e49-005861799ea6",
        "colab": {
          "base_uri": "https://localhost:8080/",
          "height": 34
        }
      },
      "cell_type": "code",
      "source": [
        "def pow_gen(x, i):\n",
        "  j = 0\n",
        "  while(j < i):\n",
        "    yield x**j\n",
        "    j += 1\n",
        "    \n",
        "def polynomial(c_coefs, x_coors):\n",
        "  return [sum([c_coefs[i]*p for i,p in enumerate(pow_gen(x, len(c_coefs)))]) for x in x_coors]\n",
        "\n",
        "c_coefs = [1,2,3]\n",
        "x_coors = [0, 2, 4, 8]\n",
        "y_coors = polynomial(c_coefs, x_coors)\n",
        "print(y_coors)"
      ],
      "execution_count": 0,
      "outputs": [
        {
          "output_type": "stream",
          "text": [
            "[1, 17, 57, 209]\n"
          ],
          "name": "stdout"
        }
      ]
    },
    {
      "metadata": {
        "id": "uUVc3ME3GlMJ",
        "colab_type": "text"
      },
      "cell_type": "markdown",
      "source": [
        "**2.**"
      ]
    },
    {
      "metadata": {
        "id": "jyrBPAk1RawH",
        "colab_type": "code",
        "outputId": "ec78100c-8fc5-4818-a165-2199a7d263ba",
        "colab": {
          "base_uri": "https://localhost:8080/",
          "height": 364
        }
      },
      "cell_type": "code",
      "source": [
        "smooth_x_coors = [8*i/100 for i in range(0,100)]\n",
        "smooth_y_coors = polynomial(c_coefs, smooth_x_coors)\n",
        "\n",
        "plt.plot(x_coors, y_coors)\n",
        "plt.plot(smooth_x_coors, smooth_y_coors)"
      ],
      "execution_count": 0,
      "outputs": [
        {
          "output_type": "execute_result",
          "data": {
            "text/plain": [
              "[<matplotlib.lines.Line2D at 0x7f30c989e2e8>]"
            ]
          },
          "metadata": {
            "tags": []
          },
          "execution_count": 14
        },
        {
          "output_type": "display_data",
          "data": {
            "image/png": "[encoded data removed]",
            "text/plain": [
              "<matplotlib.figure.Figure at 0x7f30c989e2b0>"
            ]
          },
          "metadata": {
            "tags": []
          }
        }
      ]
    },
    {
      "metadata": {
        "id": "WAt3x3qoHbIO",
        "colab_type": "text"
      },
      "cell_type": "markdown",
      "source": [
        "**3.**"
      ]
    },
    {
      "metadata": {
        "id": "dLpGLDNKSazh",
        "colab_type": "code",
        "outputId": "d2b91c25-b26a-48fc-9cb7-400429ab6928",
        "colab": {
          "base_uri": "https://localhost:8080/",
          "height": 34
        }
      },
      "cell_type": "code",
      "source": [
        "upperstr = 'thepurposeoflife'\n",
        "upperstr = [c.upper() if c=='e' else c for c in upperstr]\n",
        "print(\"\".join(upperstr))"
      ],
      "execution_count": 0,
      "outputs": [
        {
          "output_type": "stream",
          "text": [
            "thEpurposEoflifE\n"
          ],
          "name": "stdout"
        }
      ]
    },
    {
      "metadata": {
        "id": "IaEFZ75JHuzS",
        "colab_type": "text"
      },
      "cell_type": "markdown",
      "source": [
        "**4.**"
      ]
    },
    {
      "metadata": {
        "id": "Yog7gHjETu7Q",
        "colab_type": "code",
        "outputId": "f9a0cb02-ea62-40c1-ef86-d20af14e6e05",
        "colab": {
          "base_uri": "https://localhost:8080/",
          "height": 85
        }
      },
      "cell_type": "code",
      "source": [
        "records = (('Sam', 19, 'CS'),\n",
        "('Nicole', 21, 'Biochemistry'),\n",
        "('Paul', 20, 'Fine Arts'),\n",
        "('Ashley', 18, 'History'))\n",
        "  \n",
        "def showrecords(records): \n",
        "  \"\"\"\"Unpack records stored in a tuple of tuples and print each one in a nice format\"\"\"\n",
        "  for r in records:\n",
        "    r0, r1, r2 = r\n",
        "    print('%s and %d and %s' % (r0, r1, r2))  \n",
        "    \n",
        "showrecords(records)"
      ],
      "execution_count": 0,
      "outputs": [
        {
          "output_type": "stream",
          "text": [
            "Sam and 19 and CS\n",
            "Nicole and 21 and Biochemistry\n",
            "Paul and 20 and Fine Arts\n",
            "Ashley and 18 and History\n"
          ],
          "name": "stdout"
        }
      ]
    },
    {
      "metadata": {
        "id": "G30gftBZJcSN",
        "colab_type": "text"
      },
      "cell_type": "markdown",
      "source": [
        "**5.**"
      ]
    },
    {
      "metadata": {
        "id": "JvxYQcNuUdZ8",
        "colab_type": "code",
        "outputId": "18a15e42-247c-4d28-bd66-ea8aa93cc09f",
        "colab": {
          "base_uri": "https://localhost:8080/",
          "height": 51
        }
      },
      "cell_type": "code",
      "source": [
        "def multiplier_of(n):\n",
        "  def multiply(x):\n",
        "    return x*n\n",
        "  \n",
        "  return multiply\n",
        "\n",
        "multiply_with_5 = multiplier_of(5)\n",
        "print(multiply_with_5(9))\n",
        "\n",
        "multiply_with_45 = multiplier_of(multiply_with_5(9))\n",
        "print(multiply_with_45(2))"
      ],
      "execution_count": 0,
      "outputs": [
        {
          "output_type": "stream",
          "text": [
            "45\n",
            "90\n"
          ],
          "name": "stdout"
        }
      ]
    },
    {
      "metadata": {
        "id": "A1DVXGM3J4tG",
        "colab_type": "text"
      },
      "cell_type": "markdown",
      "source": [
        "**6.**"
      ]
    },
    {
      "metadata": {
        "colab_type": "code",
        "id": "kS0GbRgVgiQJ",
        "outputId": "e3c31fbd-a5b1-49ef-ec1c-dd261b9d0246",
        "colab": {
          "base_uri": "https://localhost:8080/",
          "height": 85
        }
      },
      "cell_type": "code",
      "source": [
        "def type_check(correct_type):\n",
        "    def check(old_function):  \n",
        "      def wrapper(arg):\n",
        "        if(isinstance(arg, correct_type)):\n",
        "          return old_function(arg)\n",
        "        else:\n",
        "          print(\"Bad Type\") \n",
        "    \n",
        "      return wrapper\n",
        "    \n",
        "    return check\n",
        "  \n",
        "@type_check(int)\n",
        "def times2(num):\n",
        "    return num*2\n",
        "\n",
        "@type_check(str)\n",
        "def first_letter(word):\n",
        "    return word[0]\n",
        "\n",
        "print(times2(2))\n",
        "times2('Not A Number')\n",
        "  \n",
        "print(first_letter('Hello World'))\n",
        "first_letter(['Not', 'A', 'String'])"
      ],
      "execution_count": 19,
      "outputs": [
        {
          "output_type": "stream",
          "text": [
            "4\n",
            "Bad Type\n",
            "H\n",
            "Bad Type\n"
          ],
          "name": "stdout"
        }
      ]
    },
    {
      "metadata": {
        "id": "9SAvuazWkErE",
        "colab_type": "text"
      },
      "cell_type": "markdown",
      "source": [
        "**7.**"
      ]
    },
    {
      "metadata": {
        "id": "6KzsSA9WbI8J",
        "colab_type": "code",
        "outputId": "06a6fc76-335d-4012-c392-05063c6f1766",
        "colab": {
          "base_uri": "https://localhost:8080/",
          "height": 51
        }
      },
      "cell_type": "code",
      "source": [
        "PLUGINS = dict()\n",
        "\n",
        "def register(func):\n",
        "    PLUGINS[func.__name__] = func\n",
        "\n",
        "@register\n",
        "def say_hello(name):\n",
        "    return f\"Hello {name}\"\n",
        "\n",
        "@register\n",
        "def be_awesome(name):\n",
        "    return f\"Yo {name}, together we are the awesomest!\"\n",
        "\n",
        "def randomly_greet(name):\n",
        "    greeter, greeter_func = random.choice(list(PLUGINS.items()))\n",
        "    print(f\"Using {greeter!r}\")\n",
        "    return greeter_func(name)\n",
        "  \n",
        "randomly_greet('John')  "
      ],
      "execution_count": 0,
      "outputs": [
        {
          "output_type": "stream",
          "text": [
            "Using 'be_awesome'\n"
          ],
          "name": "stdout"
        },
        {
          "output_type": "execute_result",
          "data": {
            "text/plain": [
              "'Yo John, together we are the awesomest!'"
            ]
          },
          "metadata": {
            "tags": []
          },
          "execution_count": 51
        }
      ]
    }
  ]
}