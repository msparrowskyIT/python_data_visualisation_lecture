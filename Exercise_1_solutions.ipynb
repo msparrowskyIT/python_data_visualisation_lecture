{
  "nbformat": 4,
  "nbformat_minor": 0,
  "metadata": {
    "colab": {
      "name": "Exercise_1_solutions",
      "version": "0.3.2",
      "provenance": [],
      "collapsed_sections": [],
      "include_colab_link": true
    },
    "kernelspec": {
      "name": "python3",
      "display_name": "Python 3"
    }
  },
  "cells": [
    {
      "cell_type": "markdown",
      "metadata": {
        "id": "view-in-github",
        "colab_type": "text"
      },
      "source": [
        "<a href=\"https://colab.research.google.com/github/msparrowskyIT/python_data_visualisation_lecture/blob/master/Exercise_1_solutions.ipynb\" target=\"_parent\"><img src=\"https://colab.research.google.com/assets/colab-badge.svg\" alt=\"Open In Colab\"/></a>"
      ]
    },
    {
      "metadata": {
        "id": "Jc2UdRMHuCSb",
        "colab_type": "text"
      },
      "cell_type": "markdown",
      "source": [
        "**1.**"
      ]
    },
    {
      "metadata": {
        "id": "heeNDnC9USes",
        "colab_type": "code",
        "outputId": "676f7f95-07fa-426a-f162-48ea5f2a979a",
        "colab": {
          "base_uri": "https://localhost:8080/",
          "height": 34
        }
      },
      "cell_type": "code",
      "source": [
        "\n",
        "7**4"
      ],
      "execution_count": 0,
      "outputs": [
        {
          "output_type": "execute_result",
          "data": {
            "text/plain": [
              "2401"
            ]
          },
          "metadata": {
            "tags": []
          },
          "execution_count": 1
        }
      ]
    },
    {
      "metadata": {
        "id": "bIjdY8HOuJkQ",
        "colab_type": "text"
      },
      "cell_type": "markdown",
      "source": [
        "**2.**"
      ]
    },
    {
      "metadata": {
        "id": "EqT4lV3GUrVe",
        "colab_type": "code",
        "outputId": "5c52f6f3-69b8-4512-e3e1-84877262f07b",
        "colab": {
          "base_uri": "https://localhost:8080/",
          "height": 34
        }
      },
      "cell_type": "code",
      "source": [
        "s = \"Hi there Sam!\"\n",
        "s_split = s.split()\n",
        "s_split[2] = \"dad!\"\n",
        "print(\" \".join(s_split))"
      ],
      "execution_count": 1,
      "outputs": [
        {
          "output_type": "stream",
          "text": [
            "Hi there dad!\n"
          ],
          "name": "stdout"
        }
      ]
    },
    {
      "metadata": {
        "id": "-twBASuWueCd",
        "colab_type": "text"
      },
      "cell_type": "markdown",
      "source": [
        "**3.**"
      ]
    },
    {
      "metadata": {
        "id": "lwy-ArNDWLxN",
        "colab_type": "code",
        "outputId": "4c2e2027-bae7-4886-a925-347a158188f0",
        "colab": {
          "base_uri": "https://localhost:8080/",
          "height": 34
        }
      },
      "cell_type": "code",
      "source": [
        "planet = \"Earth\"\n",
        "diameter = 12742\n",
        "print(\"The dimeter od {} is {} kilometers.\".format(planet, diameter))"
      ],
      "execution_count": 0,
      "outputs": [
        {
          "output_type": "stream",
          "text": [
            "The dimeter od Earth is 12742 kilometers.\n"
          ],
          "name": "stdout"
        }
      ]
    },
    {
      "metadata": {
        "id": "le0J2dzBumNI",
        "colab_type": "text"
      },
      "cell_type": "markdown",
      "source": [
        "**4.**"
      ]
    },
    {
      "metadata": {
        "id": "FvuIFNQKWp3U",
        "colab_type": "code",
        "outputId": "08e43fd6-6fcc-4c4a-9c45-96e02bb855d8",
        "colab": {
          "base_uri": "https://localhost:8080/",
          "height": 34
        }
      },
      "cell_type": "code",
      "source": [
        "lst = [1,2,[3,4],[5,[100,200,['hello']],23,11],1,7]\n",
        "print(lst[3][1][2][0])"
      ],
      "execution_count": 0,
      "outputs": [
        {
          "output_type": "stream",
          "text": [
            "hello\n"
          ],
          "name": "stdout"
        }
      ]
    },
    {
      "metadata": {
        "id": "O7w9v1jduyaw",
        "colab_type": "text"
      },
      "cell_type": "markdown",
      "source": [
        "**5.**"
      ]
    },
    {
      "metadata": {
        "id": "RU_u0SGmXNMd",
        "colab_type": "code",
        "outputId": "198a865f-76e0-4584-be83-7aef421313db",
        "colab": {
          "base_uri": "https://localhost:8080/",
          "height": 34
        }
      },
      "cell_type": "code",
      "source": [
        "d = {'k1':[1,2,3,{'tricky':['oh','man','inception',{'target':[1,2,3,'hello']}]}]}\n",
        "print(d['k1'][3]['tricky'][3]['target'][3])"
      ],
      "execution_count": 0,
      "outputs": [
        {
          "output_type": "stream",
          "text": [
            "hello\n"
          ],
          "name": "stdout"
        }
      ]
    },
    {
      "metadata": {
        "id": "6_LDpvxCu8iE",
        "colab_type": "text"
      },
      "cell_type": "markdown",
      "source": [
        "**6.**"
      ]
    },
    {
      "metadata": {
        "id": "iOIHtfarXv1W",
        "colab_type": "code",
        "outputId": "0ef78079-eef1-49ca-e18c-451ecffbc6f4",
        "colab": {
          "base_uri": "https://localhost:8080/",
          "height": 185
        }
      },
      "cell_type": "code",
      "source": [
        "# krotka nie może być modyfikowana (immutable), inaczej jest w przypadku listy\n",
        "t = (1,)\n",
        "t[0] = 2"
      ],
      "execution_count": 0,
      "outputs": [
        {
          "output_type": "error",
          "ename": "TypeError",
          "evalue": "ignored",
          "traceback": [
            "\u001b[0;31m---------------------------------------------------------------------------\u001b[0m",
            "\u001b[0;31mTypeError\u001b[0m                                 Traceback (most recent call last)",
            "\u001b[0;32m<ipython-input-6-cdb7ee61d5c5>\u001b[0m in \u001b[0;36m<module>\u001b[0;34m()\u001b[0m\n\u001b[1;32m      1\u001b[0m \u001b[0mt\u001b[0m \u001b[0;34m=\u001b[0m \u001b[0;34m(\u001b[0m\u001b[0;36m1\u001b[0m\u001b[0;34m,\u001b[0m\u001b[0;34m)\u001b[0m\u001b[0;34m\u001b[0m\u001b[0;34m\u001b[0m\u001b[0m\n\u001b[0;32m----> 2\u001b[0;31m \u001b[0mt\u001b[0m\u001b[0;34m[\u001b[0m\u001b[0;36m0\u001b[0m\u001b[0;34m]\u001b[0m \u001b[0;34m=\u001b[0m \u001b[0;36m2\u001b[0m\u001b[0;34m\u001b[0m\u001b[0;34m\u001b[0m\u001b[0m\n\u001b[0m",
            "\u001b[0;31mTypeError\u001b[0m: 'tuple' object does not support item assignment"
          ]
        }
      ]
    },
    {
      "metadata": {
        "id": "JZQoQfyYvgL0",
        "colab_type": "text"
      },
      "cell_type": "markdown",
      "source": [
        "**7.**"
      ]
    },
    {
      "metadata": {
        "id": "h0Ip94rqX-nR",
        "colab_type": "code",
        "outputId": "e6151526-dc0b-486b-b0c9-ea64a35072d0",
        "colab": {
          "base_uri": "https://localhost:8080/",
          "height": 34
        }
      },
      "cell_type": "code",
      "source": [
        "def grab_email(email):\n",
        "  email_split = email.split('@')\n",
        "  return email_split[1]\n",
        "\n",
        "print(grab_email('super_user@ee.pw.edu.pl'))"
      ],
      "execution_count": 0,
      "outputs": [
        {
          "output_type": "stream",
          "text": [
            "ee.pw.edu.pl\n"
          ],
          "name": "stdout"
        }
      ]
    },
    {
      "metadata": {
        "id": "XPN9Zv4pvo8K",
        "colab_type": "text"
      },
      "cell_type": "markdown",
      "source": [
        "**8.**"
      ]
    },
    {
      "metadata": {
        "id": "dhIYau_nYjLU",
        "colab_type": "code",
        "outputId": "1009e77a-406c-4798-8619-6030c7a8393c",
        "colab": {
          "base_uri": "https://localhost:8080/",
          "height": 52
        }
      },
      "cell_type": "code",
      "source": [
        "# zrozumiałem, iż słowo 'car' zakończone znakiem interpunkcyjnym jest pomijane\n",
        "# trzeba natomiast uwzględnić możliwość występowania wielkich liter\n",
        "def isCar(input_str):\n",
        "  return True if 'CAR' in input_str.upper().split() else False\n",
        "\n",
        "print(isCar('The statement contains world car'))\n",
        "print(isCar('Here it is absent'))"
      ],
      "execution_count": 0,
      "outputs": [
        {
          "output_type": "stream",
          "text": [
            "True\n",
            "False\n"
          ],
          "name": "stdout"
        }
      ]
    },
    {
      "metadata": {
        "id": "6gfQHmNRwSFk",
        "colab_type": "text"
      },
      "cell_type": "markdown",
      "source": [
        "**9.**"
      ]
    },
    {
      "metadata": {
        "id": "4BvAX6kSbaD0",
        "colab_type": "code",
        "outputId": "a72412a8-3bef-47e1-df95-352e90dd4c36",
        "colab": {
          "base_uri": "https://localhost:8080/",
          "height": 34
        }
      },
      "cell_type": "code",
      "source": [
        "# przyjąłem podobne założenia jak w podpunkcie 8\n",
        "def countCar(input_str):\n",
        "  return input_str.upper().split().count('CAR')\n",
        "\n",
        "print(countCar('This car runs faster than the other car dude!'))"
      ],
      "execution_count": 0,
      "outputs": [
        {
          "output_type": "stream",
          "text": [
            "2\n"
          ],
          "name": "stdout"
        }
      ]
    },
    {
      "metadata": {
        "id": "631qwdw3wkUY",
        "colab_type": "text"
      },
      "cell_type": "markdown",
      "source": [
        "**10.**"
      ]
    },
    {
      "metadata": {
        "id": "Yljg7GV2cjXm",
        "colab_type": "code",
        "outputId": "fa1cf5c8-05ca-41fd-dc2b-ca986bb2b31a",
        "colab": {
          "base_uri": "https://localhost:8080/",
          "height": 34
        }
      },
      "cell_type": "code",
      "source": [
        "seq = ['soup','dog','salad','cat','great']\n",
        "filter_seq = list(filter(lambda s: s[0]=='s', seq))\n",
        "print(filter_seq)"
      ],
      "execution_count": 2,
      "outputs": [
        {
          "output_type": "stream",
          "text": [
            "['soup', 'salad']\n"
          ],
          "name": "stdout"
        }
      ]
    },
    {
      "metadata": {
        "id": "DYfXaWvrw2iL",
        "colab_type": "text"
      },
      "cell_type": "markdown",
      "source": [
        "**11.**"
      ]
    },
    {
      "metadata": {
        "id": "yIW1N1DBdCQn",
        "colab_type": "code",
        "outputId": "8b3d5739-f3ff-4ee3-9f78-cc499982c17b",
        "colab": {
          "base_uri": "https://localhost:8080/",
          "height": 52
        }
      },
      "cell_type": "code",
      "source": [
        "def caught_speeding(speed, is_birthday):\n",
        "  if(is_birthday):\n",
        "    speed -= 5\n",
        "  \n",
        "  if(speed <= 60):\n",
        "    return \"No ticket\"\n",
        "  elif(speed <= 80):\n",
        "    return \"Small ticker\"\n",
        "  else:\n",
        "    return \"Big ticket\"\n",
        "  \n",
        "print(caught_speeding(81,True))\n",
        "print(caught_speeding(81,False))"
      ],
      "execution_count": 0,
      "outputs": [
        {
          "output_type": "stream",
          "text": [
            "Small ticker\n",
            "Big ticket\n"
          ],
          "name": "stdout"
        }
      ]
    }
  ]
}