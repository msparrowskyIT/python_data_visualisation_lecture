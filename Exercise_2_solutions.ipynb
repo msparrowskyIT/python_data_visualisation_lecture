{
  "nbformat": 4,
  "nbformat_minor": 0,
  "metadata": {
    "colab": {
      "name": "Exercise_2_solutions",
      "version": "0.3.2",
      "provenance": [],
      "collapsed_sections": [],
      "include_colab_link": true
    },
    "kernelspec": {
      "name": "python3",
      "display_name": "Python 3"
    }
  },
  "cells": [
    {
      "cell_type": "markdown",
      "metadata": {
        "id": "view-in-github",
        "colab_type": "text"
      },
      "source": [
        "<a href=\"https://colab.research.google.com/github/msparrowskyIT/python_data_visualisation_lecture/blob/master/Exercise_2_solutions.ipynb\" target=\"_parent\"><img src=\"https://colab.research.google.com/assets/colab-badge.svg\" alt=\"Open In Colab\"/></a>"
      ]
    },
    {
      "metadata": {
        "id": "GGhTqGZims5O",
        "colab_type": "code",
        "colab": {}
      },
      "cell_type": "code",
      "source": [
        "import math"
      ],
      "execution_count": 0,
      "outputs": []
    },
    {
      "metadata": {
        "id": "oloTtUqdyyJk",
        "colab_type": "text"
      },
      "cell_type": "markdown",
      "source": [
        "**1.**"
      ]
    },
    {
      "metadata": {
        "id": "mYcvwdruyudl",
        "colab_type": "code",
        "outputId": "82edbca3-c914-46c6-c0c5-50b020d3d0dd",
        "colab": {
          "base_uri": "https://localhost:8080/",
          "height": 52
        }
      },
      "cell_type": "code",
      "source": [
        "class Line:\n",
        "  \n",
        "  def __init__(self, coor1, coor2):\n",
        "    self.x1, self.y1 = coor1\n",
        "    self.x2, self.y2 = coor2\n",
        "    \n",
        "  def distance(self):\n",
        "    return ((self.x2 - self.x1)**2 + (self.y2 - self.y1)**2)**0.5\n",
        "  \n",
        "  def slope(self):\n",
        "    return (self.y2 - self.y1) / (self.x2 - self.x1)\n",
        "  \n",
        "li = Line((3,2), (8,10))\n",
        "print(li.distance())\n",
        "print(li.slope())"
      ],
      "execution_count": 0,
      "outputs": [
        {
          "output_type": "stream",
          "text": [
            "9.433981132056603\n",
            "1.6\n"
          ],
          "name": "stdout"
        }
      ]
    },
    {
      "metadata": {
        "id": "E9gjzpPD1SWL",
        "colab_type": "text"
      },
      "cell_type": "markdown",
      "source": [
        "**2.**"
      ]
    },
    {
      "metadata": {
        "id": "p_fFz1BuoWPC",
        "colab_type": "code",
        "outputId": "a84a14b7-9f25-41dc-b824-9b15c4840728",
        "colab": {
          "base_uri": "https://localhost:8080/",
          "height": 52
        }
      },
      "cell_type": "code",
      "source": [
        "class Cylinder:\n",
        "  \n",
        "  def __init__(self, height=1, radius=1):\n",
        "    self.height = height\n",
        "    self.radius = radius\n",
        "\n",
        "  def volume(self):\n",
        "    return math.pi*self.radius**2*self.height\n",
        "\n",
        "  def surface_area(self):\n",
        "    return 2*math.pi*self.radius*(self.height + self.radius)\n",
        "  \n",
        "\n",
        "c = Cylinder(2,3)\n",
        "print(c.volume())\n",
        "print(c.surface_area())"
      ],
      "execution_count": 0,
      "outputs": [
        {
          "output_type": "stream",
          "text": [
            "56.548667764616276\n",
            "94.24777960769379\n"
          ],
          "name": "stdout"
        }
      ]
    },
    {
      "metadata": {
        "id": "UI9fEmid5SuG",
        "colab_type": "text"
      },
      "cell_type": "markdown",
      "source": [
        "**3.**"
      ]
    },
    {
      "metadata": {
        "id": "c3CeF31hpzAv",
        "colab_type": "code",
        "outputId": "75106c32-4ae1-40b3-ea13-05c09191ee8c",
        "colab": {
          "base_uri": "https://localhost:8080/",
          "height": 102
        }
      },
      "cell_type": "code",
      "source": [
        "# metody min, max, avg zostały zastąpione jedną globalną metodą statistics\n",
        "# założyłem ponadto, że wszystkie pola numeryczne w pliku są typu int\n",
        "\n",
        "def avg(seq):\n",
        "    return sum(seq)/len(seq)\n",
        "\n",
        "class DataFile(object):\n",
        "\n",
        "  def __init__(self, filename):\n",
        "    with open(filename, 'r') as file:\n",
        "      self.__names_init(file) \n",
        "      self.__values_init(file)\n",
        "    \n",
        "  def __names_init(self, file):\n",
        "    self.names = file.readline().strip().split(';')\n",
        "    \n",
        "  def __values_init(self, file):\n",
        "    self.values = []\n",
        "    for line in file:      \n",
        "      values = []\n",
        "      for v in line.strip().split(';'):\n",
        "        try:\n",
        "          values.append(int(v))\n",
        "        except ValueError:\n",
        "          values.append(v)\n",
        "      self.values.append(values)\n",
        "        \n",
        "  def statistic(self, colnum=0, colname='', func=min):\n",
        "    if(colname):\n",
        "      colnum = self.names.index(colname)\n",
        "    \n",
        "    col_values = [row_values[colnum] for row_values in self.values]\n",
        "    if all([isinstance(v, int) for v in col_values]):\n",
        "      return func(col_values)\n",
        "    else:\n",
        "      None\n",
        "  \n",
        "  def info(self):\n",
        "    print(\"{:>20}{:>10}{:>10}\".format('Min', 'Max', 'Avg'))\n",
        "    for name in self.names:\n",
        "      col_min, col_max, col_avg = self.statistic(colname=name), self.statistic(colname=name, func=max), self.statistic(colname=name, func=avg) \n",
        "      if(col_min and col_max and col_avg):\n",
        "        print(\"{:10}{:>10}{:>10}{:>10.2f}\".format(name, col_min, col_max, col_avg))\n",
        "      else:\n",
        "        print(\"{:10}{:>10}{:>10}{:>10}\".format(name, '-', '-', '-'))\n",
        "     \n",
        "df = DataFile('myfile.csv')\n",
        "df.info()   "
      ],
      "execution_count": 19,
      "outputs": [
        {
          "output_type": "stream",
          "text": [
            "                 Min       Max       Avg\n",
            "Name               -         -         -\n",
            "Age                4         8      6.00\n",
            "Weight            18        32     25.00\n",
            "Height            98       138    119.67\n"
          ],
          "name": "stdout"
        }
      ]
    },
    {
      "metadata": {
        "id": "0gp6-3mn9NPO",
        "colab_type": "code",
        "colab": {}
      },
      "cell_type": "code",
      "source": [
        ""
      ],
      "execution_count": 0,
      "outputs": []
    }
  ]
}