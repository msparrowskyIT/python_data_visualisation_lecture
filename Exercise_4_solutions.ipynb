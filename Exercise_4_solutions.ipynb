{
  "nbformat": 4,
  "nbformat_minor": 0,
  "metadata": {
    "colab": {
      "name": "Exercise_4_solutions.ipynb",
      "version": "0.3.2",
      "provenance": [],
      "collapsed_sections": [],
      "include_colab_link": true
    },
    "kernelspec": {
      "name": "python3",
      "display_name": "Python 3"
    }
  },
  "cells": [
    {
      "cell_type": "markdown",
      "metadata": {
        "id": "view-in-github",
        "colab_type": "text"
      },
      "source": [
        "<a href=\"https://colab.research.google.com/github/msparrowskyIT/python_data_visualisation_lecture/blob/master/Exercise_4_solutions.ipynb\" target=\"_parent\"><img src=\"https://colab.research.google.com/assets/colab-badge.svg\" alt=\"Open In Colab\"/></a>"
      ]
    },
    {
      "metadata": {
        "id": "d_5jT-6KDPKj",
        "colab_type": "code",
        "colab": {}
      },
      "cell_type": "code",
      "source": [
        "import numpy as np\n",
        "import csv\n",
        "import matplotlib.pyplot as plt\n",
        "import collections"
      ],
      "execution_count": 0,
      "outputs": []
    },
    {
      "metadata": {
        "id": "y2pfeW0jKbWV",
        "colab_type": "text"
      },
      "cell_type": "markdown",
      "source": [
        "**1.**"
      ]
    },
    {
      "metadata": {
        "id": "33Q2vS3bDWDi",
        "colab_type": "code",
        "outputId": "a1a4adf3-84e4-4ca1-bee0-eb5a47456b28",
        "colab": {
          "base_uri": "https://localhost:8080/",
          "height": 34
        }
      },
      "cell_type": "code",
      "source": [
        "np.zeros(10)\n"
      ],
      "execution_count": 0,
      "outputs": [
        {
          "output_type": "execute_result",
          "data": {
            "text/plain": [
              "array([0., 0., 0., 0., 0., 0., 0., 0., 0., 0.])"
            ]
          },
          "metadata": {
            "tags": []
          },
          "execution_count": 20
        }
      ]
    },
    {
      "metadata": {
        "id": "Vq-YdPAvKdzj",
        "colab_type": "text"
      },
      "cell_type": "markdown",
      "source": [
        "**2.**"
      ]
    },
    {
      "metadata": {
        "id": "FJ4fqEKsDcoY",
        "colab_type": "code",
        "outputId": "da8a4056-aca3-446c-9591-77f2569cd1ca",
        "colab": {
          "base_uri": "https://localhost:8080/",
          "height": 34
        }
      },
      "cell_type": "code",
      "source": [
        "np.ones(10)"
      ],
      "execution_count": 0,
      "outputs": [
        {
          "output_type": "execute_result",
          "data": {
            "text/plain": [
              "array([1., 1., 1., 1., 1., 1., 1., 1., 1., 1.])"
            ]
          },
          "metadata": {
            "tags": []
          },
          "execution_count": 21
        }
      ]
    },
    {
      "metadata": {
        "id": "2PyZc-7XKf4O",
        "colab_type": "text"
      },
      "cell_type": "markdown",
      "source": [
        "**3.**"
      ]
    },
    {
      "metadata": {
        "id": "5U6pJ6zFDiXo",
        "colab_type": "code",
        "outputId": "8c39b8db-1778-4b3d-b2eb-fd83410667f9",
        "colab": {
          "base_uri": "https://localhost:8080/",
          "height": 34
        }
      },
      "cell_type": "code",
      "source": [
        "np.full(10, 5, dtype=np.double)"
      ],
      "execution_count": 0,
      "outputs": [
        {
          "output_type": "execute_result",
          "data": {
            "text/plain": [
              "array([5., 5., 5., 5., 5., 5., 5., 5., 5., 5.])"
            ]
          },
          "metadata": {
            "tags": []
          },
          "execution_count": 22
        }
      ]
    },
    {
      "metadata": {
        "id": "RvlwGeZHKvBW",
        "colab_type": "text"
      },
      "cell_type": "markdown",
      "source": [
        "**4.**"
      ]
    },
    {
      "metadata": {
        "id": "LCPArPF-EC8E",
        "colab_type": "code",
        "outputId": "a967412c-51d1-4ee7-86f3-70b98286cf02",
        "colab": {
          "base_uri": "https://localhost:8080/",
          "height": 68
        }
      },
      "cell_type": "code",
      "source": [
        "np.arange(10, 51, dtype=np.int)"
      ],
      "execution_count": 0,
      "outputs": [
        {
          "output_type": "execute_result",
          "data": {
            "text/plain": [
              "array([10, 11, 12, 13, 14, 15, 16, 17, 18, 19, 20, 21, 22, 23, 24, 25, 26,\n",
              "       27, 28, 29, 30, 31, 32, 33, 34, 35, 36, 37, 38, 39, 40, 41, 42, 43,\n",
              "       44, 45, 46, 47, 48, 49, 50])"
            ]
          },
          "metadata": {
            "tags": []
          },
          "execution_count": 5
        }
      ]
    },
    {
      "metadata": {
        "id": "8H7npMKNL8N9",
        "colab_type": "text"
      },
      "cell_type": "markdown",
      "source": [
        "**5.**"
      ]
    },
    {
      "metadata": {
        "id": "tQybi_gFEs-r",
        "colab_type": "code",
        "outputId": "f899ee58-926b-448a-a909-cdeed7c29860",
        "colab": {
          "base_uri": "https://localhost:8080/",
          "height": 51
        }
      },
      "cell_type": "code",
      "source": [
        "np.arange(10, 51, 2, dtype=np.int)"
      ],
      "execution_count": 0,
      "outputs": [
        {
          "output_type": "execute_result",
          "data": {
            "text/plain": [
              "array([10, 12, 14, 16, 18, 20, 22, 24, 26, 28, 30, 32, 34, 36, 38, 40, 42,\n",
              "       44, 46, 48, 50])"
            ]
          },
          "metadata": {
            "tags": []
          },
          "execution_count": 24
        }
      ]
    },
    {
      "metadata": {
        "id": "NP1Dcv3mL-R_",
        "colab_type": "text"
      },
      "cell_type": "markdown",
      "source": [
        "**6.**"
      ]
    },
    {
      "metadata": {
        "id": "KKQ7uY3nE3bo",
        "colab_type": "code",
        "outputId": "3af77ab3-f723-43b1-fb54-675abff2593f",
        "colab": {
          "base_uri": "https://localhost:8080/",
          "height": 68
        }
      },
      "cell_type": "code",
      "source": [
        "np.arange(0, 9).reshape((3,3))\n"
      ],
      "execution_count": 0,
      "outputs": [
        {
          "output_type": "execute_result",
          "data": {
            "text/plain": [
              "array([[0, 1, 2],\n",
              "       [3, 4, 5],\n",
              "       [6, 7, 8]])"
            ]
          },
          "metadata": {
            "tags": []
          },
          "execution_count": 25
        }
      ]
    },
    {
      "metadata": {
        "id": "qfS2STrnMBD3",
        "colab_type": "text"
      },
      "cell_type": "markdown",
      "source": [
        "**7.**"
      ]
    },
    {
      "metadata": {
        "id": "VN1qK40nFNWP",
        "colab_type": "code",
        "outputId": "6abc6a03-77ba-4c22-885d-a49caf11c31f",
        "colab": {
          "base_uri": "https://localhost:8080/",
          "height": 68
        }
      },
      "cell_type": "code",
      "source": [
        "np.identity(3)"
      ],
      "execution_count": 0,
      "outputs": [
        {
          "output_type": "execute_result",
          "data": {
            "text/plain": [
              "array([[1., 0., 0.],\n",
              "       [0., 1., 0.],\n",
              "       [0., 0., 1.]])"
            ]
          },
          "metadata": {
            "tags": []
          },
          "execution_count": 26
        }
      ]
    },
    {
      "metadata": {
        "id": "lDwIAqx_MJVv",
        "colab_type": "text"
      },
      "cell_type": "markdown",
      "source": [
        "**8.**"
      ]
    },
    {
      "metadata": {
        "id": "3-RwxHDHFd2n",
        "colab_type": "code",
        "outputId": "1182a4f6-c754-4f40-d8a9-ed653a6a0054",
        "colab": {
          "base_uri": "https://localhost:8080/",
          "height": 34
        }
      },
      "cell_type": "code",
      "source": [
        "np.random.rand(1)"
      ],
      "execution_count": 0,
      "outputs": [
        {
          "output_type": "execute_result",
          "data": {
            "text/plain": [
              "array([0.23328093])"
            ]
          },
          "metadata": {
            "tags": []
          },
          "execution_count": 29
        }
      ]
    },
    {
      "metadata": {
        "id": "QcW5YYeXMGvB",
        "colab_type": "text"
      },
      "cell_type": "markdown",
      "source": [
        "**9.**"
      ]
    },
    {
      "metadata": {
        "id": "CLclefCCGAAX",
        "colab_type": "code",
        "outputId": "0f7aeccd-2adc-41c1-d39a-baaeb6d1aff6",
        "colab": {
          "base_uri": "https://localhost:8080/",
          "height": 102
        }
      },
      "cell_type": "code",
      "source": [
        "np.random.randn(25)"
      ],
      "execution_count": 0,
      "outputs": [
        {
          "output_type": "execute_result",
          "data": {
            "text/plain": [
              "array([-1.31253936, -0.7117603 , -1.02274287,  0.70450243,  1.66631903,\n",
              "        0.93469688,  0.23288701, -0.48979583,  0.29036785,  1.7981496 ,\n",
              "        0.00385936, -1.02732271,  1.55236709, -0.12808617, -0.33605099,\n",
              "       -0.5480573 ,  0.12178067,  0.42221609,  0.24362337, -0.28516367,\n",
              "       -3.84640444, -0.71157125, -0.8391718 ,  1.25489077, -1.46899959])"
            ]
          },
          "metadata": {
            "tags": []
          },
          "execution_count": 6
        }
      ]
    },
    {
      "metadata": {
        "id": "cbeZMoGaMpHy",
        "colab_type": "text"
      },
      "cell_type": "markdown",
      "source": [
        "**10.**"
      ]
    },
    {
      "metadata": {
        "id": "5DtZzHn9GOzn",
        "colab_type": "code",
        "outputId": "2ddfbd0a-b6c9-4c43-f585-a524411c2924",
        "colab": {
          "base_uri": "https://localhost:8080/",
          "height": 187
        }
      },
      "cell_type": "code",
      "source": [
        "np.linspace(0.01, 1, 100).reshape((10, 10))"
      ],
      "execution_count": 0,
      "outputs": [
        {
          "output_type": "execute_result",
          "data": {
            "text/plain": [
              "array([[0.01, 0.02, 0.03, 0.04, 0.05, 0.06, 0.07, 0.08, 0.09, 0.1 ],\n",
              "       [0.11, 0.12, 0.13, 0.14, 0.15, 0.16, 0.17, 0.18, 0.19, 0.2 ],\n",
              "       [0.21, 0.22, 0.23, 0.24, 0.25, 0.26, 0.27, 0.28, 0.29, 0.3 ],\n",
              "       [0.31, 0.32, 0.33, 0.34, 0.35, 0.36, 0.37, 0.38, 0.39, 0.4 ],\n",
              "       [0.41, 0.42, 0.43, 0.44, 0.45, 0.46, 0.47, 0.48, 0.49, 0.5 ],\n",
              "       [0.51, 0.52, 0.53, 0.54, 0.55, 0.56, 0.57, 0.58, 0.59, 0.6 ],\n",
              "       [0.61, 0.62, 0.63, 0.64, 0.65, 0.66, 0.67, 0.68, 0.69, 0.7 ],\n",
              "       [0.71, 0.72, 0.73, 0.74, 0.75, 0.76, 0.77, 0.78, 0.79, 0.8 ],\n",
              "       [0.81, 0.82, 0.83, 0.84, 0.85, 0.86, 0.87, 0.88, 0.89, 0.9 ],\n",
              "       [0.91, 0.92, 0.93, 0.94, 0.95, 0.96, 0.97, 0.98, 0.99, 1.  ]])"
            ]
          },
          "metadata": {
            "tags": []
          },
          "execution_count": 10
        }
      ]
    },
    {
      "metadata": {
        "id": "CdOedB2PM7Ga",
        "colab_type": "text"
      },
      "cell_type": "markdown",
      "source": [
        "**11.**"
      ]
    },
    {
      "metadata": {
        "id": "YE22-jbaGiM1",
        "colab_type": "code",
        "outputId": "b62945ee-4e96-4951-a893-e36700271843",
        "colab": {
          "base_uri": "https://localhost:8080/",
          "height": 85
        }
      },
      "cell_type": "code",
      "source": [
        "np.linspace(0, 1, 20)"
      ],
      "execution_count": 0,
      "outputs": [
        {
          "output_type": "execute_result",
          "data": {
            "text/plain": [
              "array([0.        , 0.05263158, 0.10526316, 0.15789474, 0.21052632,\n",
              "       0.26315789, 0.31578947, 0.36842105, 0.42105263, 0.47368421,\n",
              "       0.52631579, 0.57894737, 0.63157895, 0.68421053, 0.73684211,\n",
              "       0.78947368, 0.84210526, 0.89473684, 0.94736842, 1.        ])"
            ]
          },
          "metadata": {
            "tags": []
          },
          "execution_count": 11
        }
      ]
    },
    {
      "metadata": {
        "id": "lbJBgzatIYLF",
        "colab_type": "text"
      },
      "cell_type": "markdown",
      "source": [
        "**12 **"
      ]
    },
    {
      "metadata": {
        "id": "p2zdv05GIVRd",
        "colab_type": "code",
        "outputId": "77785fc2-a29e-4a06-90af-797bddefa9a4",
        "colab": {
          "base_uri": "https://localhost:8080/",
          "height": 102
        }
      },
      "cell_type": "code",
      "source": [
        "mat = np.arange(1,26).reshape(5,5)\n",
        "mat"
      ],
      "execution_count": 0,
      "outputs": [
        {
          "output_type": "execute_result",
          "data": {
            "text/plain": [
              "array([[ 1,  2,  3,  4,  5],\n",
              "       [ 6,  7,  8,  9, 10],\n",
              "       [11, 12, 13, 14, 15],\n",
              "       [16, 17, 18, 19, 20],\n",
              "       [21, 22, 23, 24, 25]])"
            ]
          },
          "metadata": {
            "tags": []
          },
          "execution_count": 35
        }
      ]
    },
    {
      "metadata": {
        "id": "b67748XtNXAk",
        "colab_type": "text"
      },
      "cell_type": "markdown",
      "source": [
        "**12 a)**"
      ]
    },
    {
      "metadata": {
        "id": "3YOxqnujIqCh",
        "colab_type": "code",
        "outputId": "e18de38d-bd43-4665-c323-117e9b7b091c",
        "colab": {
          "base_uri": "https://localhost:8080/",
          "height": 68
        }
      },
      "cell_type": "code",
      "source": [
        "mat[2:, 1:]"
      ],
      "execution_count": 0,
      "outputs": [
        {
          "output_type": "execute_result",
          "data": {
            "text/plain": [
              "array([[12, 13, 14, 15],\n",
              "       [17, 18, 19, 20],\n",
              "       [22, 23, 24, 25]])"
            ]
          },
          "metadata": {
            "tags": []
          },
          "execution_count": 37
        }
      ]
    },
    {
      "metadata": {
        "id": "TgPJMO3HNeJT",
        "colab_type": "text"
      },
      "cell_type": "markdown",
      "source": [
        "**12 b)**"
      ]
    },
    {
      "metadata": {
        "id": "ElagFoLDJXRY",
        "colab_type": "code",
        "outputId": "7daa3280-500e-4ab6-bdda-8c22de03037c",
        "colab": {
          "base_uri": "https://localhost:8080/",
          "height": 34
        }
      },
      "cell_type": "code",
      "source": [
        "mat[3,4]"
      ],
      "execution_count": 0,
      "outputs": [
        {
          "output_type": "execute_result",
          "data": {
            "text/plain": [
              "20"
            ]
          },
          "metadata": {
            "tags": []
          },
          "execution_count": 44
        }
      ]
    },
    {
      "metadata": {
        "id": "srC4knmINho9",
        "colab_type": "text"
      },
      "cell_type": "markdown",
      "source": [
        "**12 c)**"
      ]
    },
    {
      "metadata": {
        "id": "yQZiizufI8cC",
        "colab_type": "code",
        "outputId": "210c1ed1-090a-46d9-97c0-479280889f4d",
        "colab": {
          "base_uri": "https://localhost:8080/",
          "height": 68
        }
      },
      "cell_type": "code",
      "source": [
        "mat[:3, 1:2]"
      ],
      "execution_count": 0,
      "outputs": [
        {
          "output_type": "execute_result",
          "data": {
            "text/plain": [
              "array([[ 2],\n",
              "       [ 7],\n",
              "       [12]])"
            ]
          },
          "metadata": {
            "tags": []
          },
          "execution_count": 43
        }
      ]
    },
    {
      "metadata": {
        "id": "eLeFmPbtNp4z",
        "colab_type": "text"
      },
      "cell_type": "markdown",
      "source": [
        "**12 d)**"
      ]
    },
    {
      "metadata": {
        "id": "k9Z89FWeJGru",
        "colab_type": "code",
        "outputId": "4eabbd6e-376e-4dad-96a5-b89f1edd6d50",
        "colab": {
          "base_uri": "https://localhost:8080/",
          "height": 34
        }
      },
      "cell_type": "code",
      "source": [
        "mat[4]"
      ],
      "execution_count": 0,
      "outputs": [
        {
          "output_type": "execute_result",
          "data": {
            "text/plain": [
              "array([21, 22, 23, 24, 25])"
            ]
          },
          "metadata": {
            "tags": []
          },
          "execution_count": 41
        }
      ]
    },
    {
      "metadata": {
        "id": "Q60wCE1KNupt",
        "colab_type": "text"
      },
      "cell_type": "markdown",
      "source": [
        "**12 e)**"
      ]
    },
    {
      "metadata": {
        "id": "pYyJHO4rJSNl",
        "colab_type": "code",
        "outputId": "9353b817-0bfa-4cb3-8dc0-409ba38281e4",
        "colab": {
          "base_uri": "https://localhost:8080/",
          "height": 51
        }
      },
      "cell_type": "code",
      "source": [
        "mat[3:]"
      ],
      "execution_count": 0,
      "outputs": [
        {
          "output_type": "execute_result",
          "data": {
            "text/plain": [
              "array([[16, 17, 18, 19, 20],\n",
              "       [21, 22, 23, 24, 25]])"
            ]
          },
          "metadata": {
            "tags": []
          },
          "execution_count": 42
        }
      ]
    },
    {
      "metadata": {
        "id": "iZJa8PAzNxIP",
        "colab_type": "text"
      },
      "cell_type": "markdown",
      "source": [
        "**13.**"
      ]
    },
    {
      "metadata": {
        "id": "vwCveGwvJvca",
        "colab_type": "code",
        "outputId": "f88a54e1-a4c0-4e34-c2c0-3675da5b5905",
        "colab": {
          "base_uri": "https://localhost:8080/",
          "height": 34
        }
      },
      "cell_type": "code",
      "source": [
        "np.sum(mat)"
      ],
      "execution_count": 0,
      "outputs": [
        {
          "output_type": "execute_result",
          "data": {
            "text/plain": [
              "325"
            ]
          },
          "metadata": {
            "tags": []
          },
          "execution_count": 45
        }
      ]
    },
    {
      "metadata": {
        "id": "zKWHvMCONy56",
        "colab_type": "text"
      },
      "cell_type": "markdown",
      "source": [
        "**14.**"
      ]
    },
    {
      "metadata": {
        "id": "T87F4PcgJ6WM",
        "colab_type": "code",
        "outputId": "e6294743-30c2-40a5-b2a1-5dfa7a4bdad4",
        "colab": {
          "base_uri": "https://localhost:8080/",
          "height": 34
        }
      },
      "cell_type": "code",
      "source": [
        "np.std(mat)"
      ],
      "execution_count": 0,
      "outputs": [
        {
          "output_type": "execute_result",
          "data": {
            "text/plain": [
              "7.211102550927978"
            ]
          },
          "metadata": {
            "tags": []
          },
          "execution_count": 46
        }
      ]
    },
    {
      "metadata": {
        "id": "PzNVHnfcN5bC",
        "colab_type": "text"
      },
      "cell_type": "markdown",
      "source": [
        "**15.**"
      ]
    },
    {
      "metadata": {
        "id": "77LzHbu1KAdt",
        "colab_type": "code",
        "outputId": "d340fdf9-f000-4a65-f17b-eef2ebfcfb36",
        "colab": {
          "base_uri": "https://localhost:8080/",
          "height": 34
        }
      },
      "cell_type": "code",
      "source": [
        "np.sum(mat, axis=0)"
      ],
      "execution_count": 0,
      "outputs": [
        {
          "output_type": "execute_result",
          "data": {
            "text/plain": [
              "array([55, 60, 65, 70, 75])"
            ]
          },
          "metadata": {
            "tags": []
          },
          "execution_count": 48
        }
      ]
    },
    {
      "metadata": {
        "id": "38KkPXi0OC44",
        "colab_type": "text"
      },
      "cell_type": "markdown",
      "source": [
        "**16.**"
      ]
    },
    {
      "metadata": {
        "id": "aiXS5T9xKHFJ",
        "colab_type": "code",
        "outputId": "fd75bfb1-fd1d-4633-c375-d54df23fdb6f",
        "colab": {
          "base_uri": "https://localhost:8080/",
          "height": 34
        }
      },
      "cell_type": "code",
      "source": [
        "np.median(mat, axis=0)"
      ],
      "execution_count": 0,
      "outputs": [
        {
          "output_type": "execute_result",
          "data": {
            "text/plain": [
              "array([11., 12., 13., 14., 15.])"
            ]
          },
          "metadata": {
            "tags": []
          },
          "execution_count": 49
        }
      ]
    },
    {
      "metadata": {
        "id": "sm7I7A8sOHnZ",
        "colab_type": "text"
      },
      "cell_type": "markdown",
      "source": [
        "**17.**"
      ]
    },
    {
      "metadata": {
        "id": "Hassl98_KVBI",
        "colab_type": "code",
        "outputId": "44710a1a-a7f0-4687-8df9-99519c1d5c2c",
        "colab": {
          "base_uri": "https://localhost:8080/",
          "height": 34
        }
      },
      "cell_type": "code",
      "source": [
        "np.median(mat, axis=1)"
      ],
      "execution_count": 0,
      "outputs": [
        {
          "output_type": "execute_result",
          "data": {
            "text/plain": [
              "array([ 3.,  8., 13., 18., 23.])"
            ]
          },
          "metadata": {
            "tags": []
          },
          "execution_count": 50
        }
      ]
    },
    {
      "metadata": {
        "id": "3myhAcUtOKbI",
        "colab_type": "text"
      },
      "cell_type": "markdown",
      "source": [
        "**18.**"
      ]
    },
    {
      "metadata": {
        "id": "ybMuZ6avKYWa",
        "colab_type": "code",
        "outputId": "267b55fb-d21e-478b-ad70-3a427e16bf77",
        "colab": {
          "base_uri": "https://localhost:8080/",
          "height": 34
        }
      },
      "cell_type": "code",
      "source": [
        "np.average(mat, axis=1)"
      ],
      "execution_count": 0,
      "outputs": [
        {
          "output_type": "execute_result",
          "data": {
            "text/plain": [
              "array([ 3.,  8., 13., 18., 23.])"
            ]
          },
          "metadata": {
            "tags": []
          },
          "execution_count": 52
        }
      ]
    },
    {
      "metadata": {
        "id": "aJ-EZev5Kvn_",
        "colab_type": "text"
      },
      "cell_type": "markdown",
      "source": [
        "**19.**"
      ]
    },
    {
      "metadata": {
        "id": "E9F8m9cFKhlT",
        "colab_type": "code",
        "outputId": "68d46b0a-5864-4436-9f63-b3eaabef886a",
        "colab": {
          "base_uri": "https://localhost:8080/",
          "height": 568
        }
      },
      "cell_type": "code",
      "source": [
        "def get_occurances_hours(filename):\n",
        "  occurances_hours = []\n",
        "  with open(filename, 'r') as file:\n",
        "    reader = csv.reader(file, delimiter=',')\n",
        "    time_index = next(reader).index('Time Occurred')\n",
        "    for row in reader:\n",
        "      hour = int(row[time_index][:2])+1 if row[time_index][2:] != '00' else int(row[time_index][:2])\n",
        "      hour %= 24\n",
        "      occurances_hours.append(hour)\n",
        "  return occurances_hours\n",
        "\n",
        "occurances_hours = get_occurances_hours('Crime_Data_from_2010_small.csv')\n",
        "\n",
        "plt.hist(occurances_hours, rwidth=0.75, bins=12)\n",
        "plt.xticks(list(range(1,24,2)))\n"
      ],
      "execution_count": 0,
      "outputs": [
        {
          "output_type": "execute_result",
          "data": {
            "text/plain": [
              "([<matplotlib.axis.XTick at 0x7f23145b7940>,\n",
              "  <matplotlib.axis.XTick at 0x7f23146623c8>,\n",
              "  <matplotlib.axis.XTick at 0x7f23145cf128>,\n",
              "  <matplotlib.axis.XTick at 0x7f2314589dd8>,\n",
              "  <matplotlib.axis.XTick at 0x7f2314593518>,\n",
              "  <matplotlib.axis.XTick at 0x7f2314593c88>,\n",
              "  <matplotlib.axis.XTick at 0x7f2314598438>,\n",
              "  <matplotlib.axis.XTick at 0x7f2314598ba8>,\n",
              "  <matplotlib.axis.XTick at 0x7f231459e358>,\n",
              "  <matplotlib.axis.XTick at 0x7f231459eac8>,\n",
              "  <matplotlib.axis.XTick at 0x7f23145a1278>,\n",
              "  <matplotlib.axis.XTick at 0x7f23145a19e8>],\n",
              " <a list of 12 Text xticklabel objects>)"
            ]
          },
          "metadata": {
            "tags": []
          },
          "execution_count": 19
        },
        {
          "output_type": "display_data",
          "data": {
            "image/png": "[encoded data removed]",
            "text/plain": [
              "<matplotlib.figure.Figure at 0x7f23146dff60>"
            ]
          },
          "metadata": {
            "tags": []
          }
        }
      ]
    },
    {
      "metadata": {
        "id": "YAWffiYoRlJa",
        "colab_type": "text"
      },
      "cell_type": "markdown",
      "source": [
        "**20.**"
      ]
    },
    {
      "metadata": {
        "id": "nnPfGumFLYt9",
        "colab_type": "code",
        "outputId": "7964fbe9-9287-438a-8eb6-137c5aa3453f",
        "colab": {
          "base_uri": "https://localhost:8080/",
          "height": 364
        }
      },
      "cell_type": "code",
      "source": [
        "cnt = collections.Counter(occurances_hours)\n",
        "all_common = cnt.most_common()\n",
        "most_common = cnt.most_common(1)[0]\n",
        "\n",
        "x = [c[0] for c in all_common]\n",
        "y = [c[1] for c in all_common]\n",
        "\n",
        "plt.scatter(x,y)\n",
        "plt.annotate(f'The maximum value: {max(y)}', xytext=(5,158),xy=most_common, arrowprops=dict(arrowstyle=\"->\",lw=2))"
      ],
      "execution_count": 0,
      "outputs": [
        {
          "output_type": "execute_result",
          "data": {
            "text/plain": [
              "Text(5,158,'The maximum value: 160')"
            ]
          },
          "metadata": {
            "tags": []
          },
          "execution_count": 21
        },
        {
          "output_type": "display_data",
          "data": {
            "image/png": "[encoded data removed]",
            "text/plain": [
              "<matplotlib.figure.Figure at 0x7f2314515e48>"
            ]
          },
          "metadata": {
            "tags": []
          }
        }
      ]
    },
    {
      "metadata": {
        "id": "9d92bFySR2lR",
        "colab_type": "text"
      },
      "cell_type": "markdown",
      "source": [
        "**21.**"
      ]
    },
    {
      "metadata": {
        "id": "PnwBfTikZflq",
        "colab_type": "code",
        "outputId": "76c8da58-80de-4205-a1d3-0a9dc07aed63",
        "colab": {
          "base_uri": "https://localhost:8080/",
          "height": 544
        }
      },
      "cell_type": "code",
      "source": [
        "# funkcja concatenate nie modyfikuje macierzy przekazanych jako argumenty\n",
        "# kopię należy natomias wykonać w przypadku macierzy b, gdyż reshape jest metodą inplace\n",
        "\n",
        "def gaussian(A,b):\n",
        "  reshape_b = np.copy(b).reshape((A.shape[0], 1))\n",
        "  \n",
        "  return np.concatenate((A, reshape_b), axis=1)\n",
        "\n",
        "def eliminate(Ae):\n",
        "  for i in range(Ae.shape[0]-1):\n",
        "    # jeśli wartość diagonalna wiersza wynosi 0 zostanie on zamieniony z innym wierszem jeśli to możliwe\n",
        "    if (Ae[i,i] == 0):\n",
        "      for j in range(i+1, Ae.shape[0]):\n",
        "        if (Ae[j,j] != 0):\n",
        "          # Ae[i, i:], Ae[j, i:] = Ae[j, i:], Ae[i, i:] niepoprawny wynik - czym może to być spowodowane?\n",
        "          tmp = Ae[i, i:]\n",
        "          Ae[i, i:] = Ae[j, i:]\n",
        "          Ae[j, i:] = tmp\n",
        "          break;\n",
        "    \n",
        "    for j in range(i+1, Ae.shape[0]):\n",
        "      rate = Ae[j,i]/Ae[i,i]\n",
        "      Ae[j, i:] = Ae[j, i:] - rate*Ae[i, i:]  \n",
        "      \n",
        "  return Ae\n",
        "\n",
        "def back(A, b):\n",
        "  x = np.zeros(A.shape[0])\n",
        "  for i in range(A.shape[0]-1, -1, -1):\n",
        "    x[i] = (b[i] - np.dot(A[i,i+1:],x[i+1:]))/A[i,i]\n",
        "  return x\n",
        "        \n",
        "A = np.arange(1, 17, dtype=np.float64).reshape(4,4)\n",
        "A[1,2] = 88\n",
        "A[1,3] = -3\n",
        "A[2,3] = -3\n",
        "print(f'Matrix A:\\n{A}')\n",
        "\n",
        "x = np.ones(A.shape[0])\n",
        "print(f'Matrix x:\\n{x}')\n",
        "b = A @ x.T\n",
        "print(f'Matrix b:\\n{b}')\n",
        "Ae = gaussian(A, b)\n",
        "print(f'Matrix Ae:\\n{Ae}')\n",
        "print(f'Matrix Ae after elimination:\\n{eliminate(Ae)}')\n",
        "print(f'Matrix Ae after elimination part A:\\n{Ae[:,:-1]}')\n",
        "print(f'Matrix Ae after elimination part b:\\n{Ae[:,-1:]}')\n",
        "\n",
        "x = back(Ae[:,:-1], Ae[:,-1:])\n",
        "print(f'Solution:\\n{x}')\n",
        "  "
      ],
      "execution_count": 0,
      "outputs": [
        {
          "output_type": "stream",
          "text": [
            "Matrix A:\n",
            "[[ 1.  2.  3.  4.]\n",
            " [ 5.  6. 88. -3.]\n",
            " [ 9. 10. 11. -3.]\n",
            " [13. 14. 15. 16.]]\n",
            "Matrix x:\n",
            "[1. 1. 1. 1.]\n",
            "Matrix b:\n",
            "[10. 96. 27. 58.]\n",
            "Matrix Ae:\n",
            "[[ 1.  2.  3.  4. 10.]\n",
            " [ 5.  6. 88. -3. 96.]\n",
            " [ 9. 10. 11. -3. 27.]\n",
            " [13. 14. 15. 16. 58.]]\n",
            "Matrix Ae after elimination:\n",
            "[[   1.     2.     3.     4.    10. ]\n",
            " [   0.    -4.    73.   -23.    46. ]\n",
            " [   0.     0.  -162.     7.  -155. ]\n",
            " [   0.     0.     0.    22.5   22.5]]\n",
            "Matrix Ae after elimination part A:\n",
            "[[   1.     2.     3.     4. ]\n",
            " [   0.    -4.    73.   -23. ]\n",
            " [   0.     0.  -162.     7. ]\n",
            " [   0.     0.     0.    22.5]]\n",
            "Matrix Ae after elimination part b:\n",
            "[[  10. ]\n",
            " [  46. ]\n",
            " [-155. ]\n",
            " [  22.5]]\n",
            "Solution:\n",
            "[1. 1. 1. 1.]\n"
          ],
          "name": "stdout"
        }
      ]
    }
  ]
}